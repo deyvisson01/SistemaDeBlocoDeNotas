{
 "cells": [
  {
   "cell_type": "code",
   "execution_count": 20,
   "metadata": {},
   "outputs": [],
   "source": [
    "mapaArquivos=dict()\n",
    "url = \"Deyvisson/\""
   ]
  },
  {
   "cell_type": "code",
   "execution_count": 21,
   "metadata": {},
   "outputs": [],
   "source": [
    "def arquivoss(pasta):\n",
    "    caminhos = [os.path.join(pasta, nome) for nome in os.listdir(pasta)]\n",
    "    arquivos = [arq for arq in caminhos if os.path.isfile(arq)]\n",
    "    #print(caminhos)\n",
    "    return arquivos"
   ]
  },
  {
   "cell_type": "code",
   "execution_count": 22,
   "metadata": {},
   "outputs": [
    {
     "name": "stdout",
     "output_type": "stream",
     "text": [
      "teste3\n",
      "[]\n",
      "0\n",
      "teste\n",
      "['Deyvisson/teste/testefile', 'Deyvisson/teste/testefile1']\n",
      "Deyvisson/teste/testefile\n",
      "Deyvisson/teste/testefile1\n",
      "2\n",
      "teste2\n",
      "['Deyvisson/teste2/testefile2', 'Deyvisson/teste2/testefile3', 'Deyvisson/teste2/testefile5']\n",
      "Deyvisson/teste2/testefile2\n",
      "Deyvisson/teste2/testefile3\n",
      "Deyvisson/teste2/testefile5\n",
      "3\n"
     ]
    }
   ],
   "source": [
    "import glob\n",
    "import os\n",
    "import socket\n",
    "import json\n",
    "import threading\n",
    "import numpy as np\n",
    "import sys\n",
    "from os import rmdir\n",
    "\n",
    "\n",
    "def files_path10(path):\n",
    "    # '''return list of string'''\n",
    "    return [os.path.join(p, file) for p, _, files in os.walk(os.path.abspath(path)) for file in files]\n",
    "\n",
    "def caminhos(pasta):    \n",
    "    arrayfiles = list()\n",
    "    \n",
    "    a = [os.path.join(pasta, nome) for nome in os.listdir(pasta)]\n",
    "    b = str()\n",
    "    c = str()\n",
    "    for val in a[:-1]:\n",
    "        b = val\n",
    "        c = b.split(url)[1]\n",
    "        print(c)\n",
    "        d = arquivoss(str(pasta+c+\"/\"))\n",
    "        print(d)\n",
    "        \n",
    "        if np.size(d) > 0:\n",
    "            \n",
    "            for val2 in d:\n",
    "                arrayfiles.append(str(val2).split(pasta+c+\"/\")[1])\n",
    "                print(val2)\n",
    "        mapaArquivos[c]=arrayfiles\n",
    "        arrayfiles=list()\n",
    "        print(np.size(d))\n",
    "        #arquivos = [arq for arq in str(b+\"/\"+c) if os.path.isfile(arq)]\n",
    "        #for\n",
    "\n",
    "\n",
    "#arg = files_path10(url)\n",
    "args = caminhos(url)\n",
    "#arquivoss(url)"
   ]
  },
  {
   "cell_type": "code",
   "execution_count": 53,
   "metadata": {},
   "outputs": [
    {
     "name": "stdout",
     "output_type": "stream",
     "text": [
      "teste3\n",
      "[]\n",
      "teste\n",
      "testefile\n",
      "testefile1\n",
      "teste2\n",
      "testefile2\n",
      "testefile3\n",
      "testefile5\n",
      "3\n",
      "|teste3<>vazio,-0|teste<>testefile,testefile1,-2|teste2<>testefile2,testefile3,testefile5,-3#3\n"
     ]
    }
   ],
   "source": [
    "teste = \"\"\n",
    "i = 0\n",
    "j = 0\n",
    "for (key,value) in mapaArquivos.items():\n",
    "    teste += \"|\"\n",
    "    j = 0\n",
    "    i = i+1\n",
    "    print(key)\n",
    "    teste += str(key+\"<>\")\n",
    "    if np.size(value) > 0:\n",
    "        for arquivo in value:\n",
    "            print(arquivo)\n",
    "            j = j+1\n",
    "            teste += str(arquivo+\",\")\n",
    "    else:\n",
    "        print(value)\n",
    "        teste += str(\"vazio,\")\n",
    "    teste += str(\"-\")\n",
    "    teste += str(j)\n",
    "    \n",
    "print(i)\n",
    "teste += str(\"#\")\n",
    "teste += str(i)\n",
    "print(teste)"
   ]
  },
  {
   "cell_type": "code",
   "execution_count": null,
   "metadata": {},
   "outputs": [],
   "source": []
  }
 ],
 "metadata": {
  "kernelspec": {
   "display_name": "Python 3",
   "language": "python",
   "name": "python3"
  },
  "language_info": {
   "codemirror_mode": {
    "name": "ipython",
    "version": 3
   },
   "file_extension": ".py",
   "mimetype": "text/x-python",
   "name": "python",
   "nbconvert_exporter": "python",
   "pygments_lexer": "ipython3",
   "version": "3.7.3"
  }
 },
 "nbformat": 4,
 "nbformat_minor": 2
}
